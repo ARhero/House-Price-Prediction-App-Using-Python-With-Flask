{
 "cells": [
  {
   "cell_type": "code",
   "execution_count": null,
   "id": "7c0998ad",
   "metadata": {},
   "outputs": [
    {
     "name": "stdout",
     "output_type": "stream",
     "text": [
      " * Serving Flask app '__main__'\n",
      " * Debug mode: off\n"
     ]
    },
    {
     "name": "stderr",
     "output_type": "stream",
     "text": [
      "WARNING: This is a development server. Do not use it in a production deployment. Use a production WSGI server instead.\n",
      " * Running on http://127.0.0.1:5000\n",
      "Press CTRL+C to quit\n",
      "127.0.0.1 - - [04/Oct/2023 17:32:54] \"GET / HTTP/1.1\" 200 -\n",
      "127.0.0.1 - - [04/Oct/2023 17:32:54] \"GET /main.js HTTP/1.1\" 404 -\n",
      "127.0.0.1 - - [04/Oct/2023 17:32:54] \"GET /static/css/main.css HTTP/1.1\" 200 -\n",
      "C:\\Users\\kk\\anaconda3\\Lib\\site-packages\\sklearn\\base.py:464: UserWarning: X does not have valid feature names, but LinearRegression was fitted with feature names\n",
      "  warnings.warn(\n",
      "127.0.0.1 - - [04/Oct/2023 17:33:11] \"POST /predict HTTP/1.1\" 200 -\n",
      "127.0.0.1 - - [04/Oct/2023 17:33:11] \"GET /static/css/main.css HTTP/1.1\" 304 -\n",
      "127.0.0.1 - - [04/Oct/2023 17:33:11] \"GET /main.js HTTP/1.1\" 404 -\n"
     ]
    }
   ],
   "source": [
    "from flask import Flask, render_template, request\n",
    "import numpy as np\n",
    "import pickle\n",
    "\n",
    "app = Flask(__name__)\n",
    "model = pickle.load(open('model.pkl', 'rb'))\n",
    "\n",
    "\n",
    "@app.route('/')\n",
    "def index():\n",
    "    return render_template('index.html')\n",
    "\n",
    "\n",
    "@app.route('/predict', methods=['GET', 'POST'])\n",
    "def predict():\n",
    "    val1 = request.form['bedrooms']\n",
    "    val2 = request.form['bathrooms']\n",
    "    val3 = request.form['floors']\n",
    "    val4 = request.form['yr_built']\n",
    "    arr = np.array([val1, val2, val3, val4])\n",
    "    arr = arr.astype(np.float64)\n",
    "    pred = model.predict([arr])\n",
    "\n",
    "    return render_template('index.html', data=int(pred))\n",
    "\n",
    "\n",
    "if __name__ == '__main__':\n",
    "    app.run()"
   ]
  },
  {
   "cell_type": "code",
   "execution_count": null,
   "id": "1f3233cc",
   "metadata": {},
   "outputs": [],
   "source": []
  }
 ],
 "metadata": {
  "kernelspec": {
   "display_name": "Python 3 (ipykernel)",
   "language": "python",
   "name": "python3"
  },
  "language_info": {
   "codemirror_mode": {
    "name": "ipython",
    "version": 3
   },
   "file_extension": ".py",
   "mimetype": "text/x-python",
   "name": "python",
   "nbconvert_exporter": "python",
   "pygments_lexer": "ipython3",
   "version": "3.11.5"
  }
 },
 "nbformat": 4,
 "nbformat_minor": 5
}
